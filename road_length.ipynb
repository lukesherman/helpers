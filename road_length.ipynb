{
 "cells": [
  {
   "cell_type": "code",
   "execution_count": null,
   "metadata": {},
   "outputs": [],
   "source": [
    "import numpy as np\n",
    "import pandas as pd\n",
    "import geopandas as gpd\n",
    "\n",
    "from shapely.geometry import LineString, Point, MultiPolygon\n",
    "import requests\n",
    "import json\n",
    "\n",
    "import matplotlib.pyplot as plt"
   ]
  },
  {
   "cell_type": "markdown",
   "metadata": {},
   "source": [
    "# Step 1: Download and process OSM  data"
   ]
  },
  {
   "cell_type": "code",
   "execution_count": null,
   "metadata": {},
   "outputs": [],
   "source": [
    "def get_osm_road_data(country):\n",
    "\n",
    "    overpass_url = \"http://overpass-api.de/api/interpreter\"\n",
    "    overpass_query = \"\"\"\n",
    "    /*\n",
    "    This shows the roads in the country selected. Try Bahrain: البحرين\n",
    "    */\n",
    "\n",
    "    [out:json];\n",
    "    area[name=\"<country>\"];\n",
    "     (way[\"highway\"~\"motorway|trunk|primary|motorway_link|trunk_link|primary_link|unclassified|tertiary|secondary|track|path|residential|service|secondary_link|tertiary_link\"](area);\n",
    "    );\n",
    "    out ids geom;\n",
    "\n",
    "    \"\"\"\n",
    "\n",
    "    overpass_query = overpass_query.replace(\"<country>\", country)\n",
    "\n",
    "    response = requests.get(overpass_url, \n",
    "                            params={'data': overpass_query})\n",
    "    data = response.json()\n",
    "    \n",
    "    return data"
   ]
  },
  {
   "cell_type": "code",
   "execution_count": null,
   "metadata": {},
   "outputs": [],
   "source": [
    "country = \"البحرين\" #This is Bahrain\n",
    "data = get_osm_road_data(country)"
   ]
  },
  {
   "cell_type": "markdown",
   "metadata": {},
   "source": [
    "The code above works. But we may want to modify it so that I can also get the road names as well."
   ]
  },
  {
   "cell_type": "code",
   "execution_count": null,
   "metadata": {},
   "outputs": [],
   "source": [
    "def way_to_line(way):\n",
    "    \"\"\"\n",
    "    Takes a way from OSM as an input.\n",
    "    Returns a shapely line object.\n",
    "    \"\"\"\n",
    "    coords = []\n",
    "    for i in range(len(way[\"geometry\"])):\n",
    "        coord = (way.get(\"geometry\")[i][\"lon\"], way.get(\"geometry\")[i][\"lat\"])\n",
    "        coords.append(coord)\n",
    "    line = LineString(coords)\n",
    "    return line"
   ]
  },
  {
   "cell_type": "code",
   "execution_count": null,
   "metadata": {},
   "outputs": [],
   "source": [
    "def overpass_query_to_df(data):\n",
    "    \"\"\"\n",
    "    Takes a raw query from OSM as an input.\n",
    "    Returns a geopandas style dataframe.\n",
    "    \"\"\"\n",
    "    lines = []\n",
    "    ids = []\n",
    "    for i in range((len(data.get(\"elements\")))):\n",
    "        way = data.get(\"elements\")[i]\n",
    "        road_id = way[\"id\"]\n",
    "        line = way_to_line(way)\n",
    "        lines.append(line)\n",
    "        ids.append(road_id)\n",
    "    df = pd.DataFrame([lines,ids]).T.rename(columns = {0 : \"geometry\", 1: \"way_id\"})\n",
    "    return df"
   ]
  },
  {
   "cell_type": "code",
   "execution_count": null,
   "metadata": {},
   "outputs": [],
   "source": [
    "roads = overpass_query_to_df(data)\n",
    "roads = gpd.GeoDataFrame(roads)"
   ]
  },
  {
   "cell_type": "markdown",
   "metadata": {},
   "source": [
    "# Step 2: Calculate total length of road in cell"
   ]
  },
  {
   "cell_type": "code",
   "execution_count": null,
   "metadata": {},
   "outputs": [],
   "source": [
    "def length_of_road_in_cell(roads_gpd, cell):\n",
    "    length = 0\n",
    "    for i in range(len(roads_gpd)):\n",
    "        k = cell.intersection(roads_gpd[\"geometry\"][i])\n",
    "        if k:\n",
    "            length += k.length\n",
    "    return length"
   ]
  },
  {
   "cell_type": "code",
   "execution_count": null,
   "metadata": {},
   "outputs": [],
   "source": [
    "delta = .01\n",
    "x_min, y_min, x_max, y_max = roads.total_bounds"
   ]
  },
  {
   "cell_type": "code",
   "execution_count": null,
   "metadata": {},
   "outputs": [],
   "source": [
    "x_array = np.arange(x_min,x_max, delta)\n",
    "y_array = np.arange(y_min, y_max, delta)"
   ]
  },
  {
   "cell_type": "code",
   "execution_count": null,
   "metadata": {},
   "outputs": [],
   "source": [
    "def calculate_road_length_by_cell(x_range=x_array, y_range=y_array,roads_gpd=roads, delta = delta):\n",
    "    cells = [] #This is just a temporary addition\n",
    "    \n",
    "    sums = []\n",
    "    lon = []\n",
    "    lat = []\n",
    "\n",
    "    for i in x_range:\n",
    "        for j in y_range:\n",
    "            cell = (Point(i,j).buffer(delta/2, cap_style=3))\n",
    "            \n",
    "            cells.append(cell) #A temporary return just so we can see the grid\n",
    "            \n",
    "            \n",
    "            sums.append(length_of_road_in_cell(roads_gpd, cell))\n",
    "            lon.append(i)\n",
    "            lat.append(j)\n",
    "\n",
    "    df = pd.DataFrame([lon,lat,sums]).T.rename(columns = {0: \"lon\",1:\"lat\",2:\"road_length\"})\n",
    "    \n",
    "    return df, cells"
   ]
  },
  {
   "cell_type": "code",
   "execution_count": null,
   "metadata": {
    "scrolled": true
   },
   "outputs": [],
   "source": [
    "df, cells = calculate_road_length_by_cell()"
   ]
  },
  {
   "cell_type": "code",
   "execution_count": null,
   "metadata": {},
   "outputs": [],
   "source": []
  },
  {
   "cell_type": "markdown",
   "metadata": {},
   "source": [
    "***"
   ]
  },
  {
   "cell_type": "markdown",
   "metadata": {},
   "source": [
    "**Now just a little bit of work to check on my work in the above....**\n",
    "\n",
    "***\n"
   ]
  },
  {
   "cell_type": "code",
   "execution_count": null,
   "metadata": {},
   "outputs": [],
   "source": [
    "bahrain = gpd.read_file(\"BHR_adm0.shp\")"
   ]
  },
  {
   "cell_type": "code",
   "execution_count": null,
   "metadata": {
    "scrolled": true
   },
   "outputs": [],
   "source": [
    "bahrain.plot()\n",
    "roads.plot()"
   ]
  },
  {
   "cell_type": "code",
   "execution_count": null,
   "metadata": {},
   "outputs": [],
   "source": [
    "i=x_array[0]\n",
    "j=y_array[0]\n",
    "square = Point(i,j).buffer(delta/2, cap_style=3)\n",
    "\n",
    "plt.plot(square.exterior.xy[0],square.exterior.xy[1])"
   ]
  },
  {
   "cell_type": "code",
   "execution_count": null,
   "metadata": {},
   "outputs": [],
   "source": [
    "print(\"lon delta:\", square.bounds[0] - square.bounds[2])\n",
    "print(\"lat delta:\", square.bounds[1] - square.bounds[3])"
   ]
  },
  {
   "cell_type": "code",
   "execution_count": null,
   "metadata": {},
   "outputs": [],
   "source": [
    "square.bounds"
   ]
  },
  {
   "cell_type": "code",
   "execution_count": null,
   "metadata": {},
   "outputs": [],
   "source": [
    "MultiPolygon(cells)"
   ]
  },
  {
   "cell_type": "code",
   "execution_count": null,
   "metadata": {},
   "outputs": [],
   "source": [
    "pd.set_option('display.max_rows', 500)\n",
    "df"
   ]
  },
  {
   "cell_type": "code",
   "execution_count": null,
   "metadata": {},
   "outputs": [],
   "source": []
  }
 ],
 "metadata": {
  "kernelspec": {
   "display_name": "Python 3",
   "language": "python",
   "name": "python3"
  },
  "language_info": {
   "codemirror_mode": {
    "name": "ipython",
    "version": 3
   },
   "file_extension": ".py",
   "mimetype": "text/x-python",
   "name": "python",
   "nbconvert_exporter": "python",
   "pygments_lexer": "ipython3",
   "version": "3.7.8"
  }
 },
 "nbformat": 4,
 "nbformat_minor": 4
}
